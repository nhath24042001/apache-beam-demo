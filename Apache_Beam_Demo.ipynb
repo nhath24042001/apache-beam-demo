{
  "nbformat": 4,
  "nbformat_minor": 0,
  "metadata": {
    "colab": {
      "provenance": []
    },
    "kernelspec": {
      "name": "python3",
      "display_name": "Python 3"
    },
    "language_info": {
      "name": "python"
    }
  },
  "cells": [
    {
      "cell_type": "markdown",
      "source": [
        "CREATE DATA PROCESSING\n"
      ],
      "metadata": {
        "id": "GJIJRchyatpT"
      }
    },
    {
      "cell_type": "code",
      "execution_count": null,
      "metadata": {
        "id": "Tq5QI_eDWLvG"
      },
      "outputs": [],
      "source": [
        "!pip install apache-beam"
      ]
    },
    {
      "cell_type": "code",
      "source": [
        "# Add configuration setting\n",
        "\n",
        "import apache_beam as beam\n",
        "from apache_beam.options.pipeline_options import PipelineOptions\n",
        "\n",
        "beam_options = PipelineOptions()    #configuration Beam Options to be able to install custom profiles for the application\n",
        "\n",
        "class MyOptions(PipelineOptions):\n",
        "  @classmethod\n",
        "  def _add_argparse_args(cls, parser):\n",
        "    parser.add_argument('--input')\n",
        "    parser.add_argument('--output')\n"
      ],
      "metadata": {
        "id": "nRoWeXQNZPlW"
      },
      "execution_count": null,
      "outputs": []
    },
    {
      "cell_type": "code",
      "source": [
        "!mkdir -p data\n",
        "!gsutil cp gs://apachebeamdt/SMSSpamCollection data/\n",
        "!head data/SMSSpamCollection"
      ],
      "metadata": {
        "colab": {
          "base_uri": "https://localhost:8080/"
        },
        "id": "Wyb6aVmeh7dU",
        "outputId": "83e5a421-f4c7-42d1-9bf6-83c8131c446b"
      },
      "execution_count": null,
      "outputs": [
        {
          "output_type": "stream",
          "name": "stdout",
          "text": [
            "Copying gs://apachebeamdt/SMSSpamCollection...\n",
            "/ [0 files][    0.0 B/466.7 KiB]                                                \r/ [1 files][466.7 KiB/466.7 KiB]                                                \r\n",
            "Operation completed over 1 objects/466.7 KiB.                                    \n",
            "ham\tGo until jurong point, crazy.. Available only in bugis n great world la e buffet... Cine there got amore wat...\n",
            "ham\tOk lar... Joking wif u oni...\n",
            "spam\tFree entry in 2 a wkly comp to win FA Cup final tkts 21st May 2005. Text FA to 87121 to receive entry question(std txt rate)T&C's apply 08452810075over18's\n",
            "ham\tU dun say so early hor... U c already then say...\n",
            "ham\tNah I don't think he goes to usf, he lives around here though\n",
            "spam\tFreeMsg Hey there darling it's been 3 week's now and no word back! I'd like some fun you up for it still? Tb ok! XxX std chgs to send, £1.50 to rcv\n",
            "ham\tEven my brother is not like to speak with me. They treat me like aids patent.\n",
            "ham\tAs per your request 'Melle Melle (Oru Minnaminunginte Nurungu Vettam)' has been set as your callertune for all Callers. Press *9 to copy your friends Callertune\n",
            "spam\tWINNER!! As a valued network customer you have been selected to receivea £900 prize reward! To claim call 09061701461. Claim code KL341. Valid 12 hours only.\n",
            "spam\tHad your mobile 11 months or more? U R entitled to Update to the latest colour mobiles with camera for Free! Call The Mobile Update Co FREE on 08002986030\n"
          ]
        }
      ]
    },
    {
      "cell_type": "code",
      "source": [
        "# Reading from Text file\n",
        "\n",
        "inputs_pattern = 'data/SMSSpamCollection'\n",
        "\n",
        "pipeline = beam.Pipeline()\n",
        "\n",
        "outputs = (\n",
        "    pipeline\n",
        "      | 'Take in Dataset' >> beam.io.ReadFromText(inputs_pattern)\n",
        ")"
      ],
      "metadata": {
        "id": "csXURiLekglc"
      },
      "execution_count": null,
      "outputs": []
    },
    {
      "cell_type": "code",
      "source": [
        "# Writing text file\n",
        "inputs_pattern = 'data/SMSSpamCollection'\n",
        "\n",
        "pipeline = beam.Pipeline()\n",
        "\n",
        "outputs = (\n",
        "    pipeline\n",
        "      | 'Take in Dataset' >> beam.io.ReadFromText(inputs_pattern)\n",
        "      | 'Write results' >> beam.io.WriteToText(\"ansoutput1\", file_name_suffix = \".txt\")\n",
        "      | 'Print the text file name' >> beam.Map(print)\n",
        ")\n",
        "\n",
        "pipeline.run()\n",
        "\n",
        "! head ansoutput1*.txt"
      ],
      "metadata": {
        "colab": {
          "base_uri": "https://localhost:8080/"
        },
        "id": "9RDprdf8k9TZ",
        "outputId": "a830667e-6a9f-4a1b-ac72-dfd6ba13d200"
      },
      "execution_count": null,
      "outputs": [
        {
          "output_type": "stream",
          "name": "stdout",
          "text": [
            "ansoutput1-00000-of-00001.txt\n",
            "ham\tGo until jurong point, crazy.. Available only in bugis n great world la e buffet... Cine there got amore wat...\n",
            "ham\tOk lar... Joking wif u oni...\n",
            "spam\tFree entry in 2 a wkly comp to win FA Cup final tkts 21st May 2005. Text FA to 87121 to receive entry question(std txt rate)T&C's apply 08452810075over18's\n",
            "ham\tU dun say so early hor... U c already then say...\n",
            "ham\tNah I don't think he goes to usf, he lives around here though\n",
            "spam\tFreeMsg Hey there darling it's been 3 week's now and no word back! I'd like some fun you up for it still? Tb ok! XxX std chgs to send, £1.50 to rcv\n",
            "ham\tEven my brother is not like to speak with me. They treat me like aids patent.\n",
            "ham\tAs per your request 'Melle Melle (Oru Minnaminunginte Nurungu Vettam)' has been set as your callertune for all Callers. Press *9 to copy your friends Callertune\n",
            "spam\tWINNER!! As a valued network customer you have been selected to receivea £900 prize reward! To claim call 09061701461. Claim code KL341. Valid 12 hours only.\n",
            "spam\tHad your mobile 11 months or more? U R entitled to Update to the latest colour mobiles with camera for Free! Call The Mobile Update Co FREE on 08002986030\n"
          ]
        }
      ]
    },
    {
      "cell_type": "markdown",
      "source": [
        "**PTransforms**: The text messages that could be classified as spam or non-spam (ham) => Need to use PTransforms"
      ],
      "metadata": {
        "id": "rTo_xnvFlPXB"
      }
    },
    {
      "cell_type": "code",
      "source": [
        "# Map: 1 way to distinguish spam SMS or ham SMS\n",
        "\n",
        "import re\n",
        "\n",
        "inputs_pattern = 'data/SMSSpamCollection'\n",
        "\n",
        "pipeline = beam.Pipeline()\n",
        "\n",
        "outputs = (\n",
        "    pipeline\n",
        "      | 'Take in Dataset' >> beam.io.ReadFromText(inputs_pattern)\n",
        "      | 'Separate to list' >> beam.Map(lambda line: line.split(\"\\t\"))\n",
        "      | 'Write results' >> beam.io.WriteToText(\"ansoutput2\", file_name_suffix = \".txt\")\n",
        "      | 'Print the text file name' >> beam.Map(print)\n",
        ")\n",
        "\n",
        "pipeline.run()\n",
        "\n",
        "! head ansoutput2*.txt"
      ],
      "metadata": {
        "colab": {
          "base_uri": "https://localhost:8080/"
        },
        "id": "bQmbrPpOlRvn",
        "outputId": "b7011bd1-52d3-4866-c154-5ed2df138a4c"
      },
      "execution_count": null,
      "outputs": [
        {
          "output_type": "stream",
          "name": "stdout",
          "text": [
            "ansoutput2-00000-of-00001.txt\n",
            "['ham', 'Go until jurong point, crazy.. Available only in bugis n great world la e buffet... Cine there got amore wat...']\n",
            "['ham', 'Ok lar... Joking wif u oni...']\n",
            "['spam', \"Free entry in 2 a wkly comp to win FA Cup final tkts 21st May 2005. Text FA to 87121 to receive entry question(std txt rate)T&C's apply 08452810075over18's\"]\n",
            "['ham', 'U dun say so early hor... U c already then say...']\n",
            "['ham', \"Nah I don't think he goes to usf, he lives around here though\"]\n",
            "['spam', \"FreeMsg Hey there darling it's been 3 week's now and no word back! I'd like some fun you up for it still? Tb ok! XxX std chgs to send, £1.50 to rcv\"]\n",
            "['ham', 'Even my brother is not like to speak with me. They treat me like aids patent.']\n",
            "['ham', \"As per your request 'Melle Melle (Oru Minnaminunginte Nurungu Vettam)' has been set as your callertune for all Callers. Press *9 to copy your friends Callertune\"]\n",
            "['spam', 'WINNER!! As a valued network customer you have been selected to receivea £900 prize reward! To claim call 09061701461. Claim code KL341. Valid 12 hours only.']\n",
            "['spam', 'Had your mobile 11 months or more? U R entitled to Update to the latest colour mobiles with camera for Free! Call The Mobile Update Co FREE on 08002986030']\n"
          ]
        }
      ]
    },
    {
      "cell_type": "code",
      "source": [
        "# Filter: focus on counting word spam label\n",
        "\n",
        "import re\n",
        "\n",
        "inputs_pattern = 'data/SMSSpamCollection'\n",
        "\n",
        "pipeline = beam.Pipeline()\n",
        "\n",
        "outputs = (\n",
        "    pipeline\n",
        "      | 'Take in Dataset' >> beam.io.ReadFromText(inputs_pattern)\n",
        "      | 'Separate to list' >> beam.Map(lambda line: line.split(\"\\t\"))\n",
        "      | 'Keep only spam' >> beam.Filter(lambda line: line[0] == \"spam\")\n",
        "      | 'Write results' >> beam.io.WriteToText(\"ansoutput3\", file_name_suffix = \".txt\")\n",
        "      | 'Print the text file name' >> beam.Map(print)\n",
        ")\n",
        "\n",
        "pipeline.run()\n",
        "\n",
        "! head ansoutput3*.txt"
      ],
      "metadata": {
        "colab": {
          "base_uri": "https://localhost:8080/"
        },
        "id": "9atepM33mQXW",
        "outputId": "56701f5f-0542-4958-c5cf-93d007d76a29"
      },
      "execution_count": null,
      "outputs": [
        {
          "output_type": "stream",
          "name": "stdout",
          "text": [
            "ansoutput3-00000-of-00001.txt\n",
            "['spam', \"Free entry in 2 a wkly comp to win FA Cup final tkts 21st May 2005. Text FA to 87121 to receive entry question(std txt rate)T&C's apply 08452810075over18's\"]\n",
            "['spam', \"FreeMsg Hey there darling it's been 3 week's now and no word back! I'd like some fun you up for it still? Tb ok! XxX std chgs to send, £1.50 to rcv\"]\n",
            "['spam', 'WINNER!! As a valued network customer you have been selected to receivea £900 prize reward! To claim call 09061701461. Claim code KL341. Valid 12 hours only.']\n",
            "['spam', 'Had your mobile 11 months or more? U R entitled to Update to the latest colour mobiles with camera for Free! Call The Mobile Update Co FREE on 08002986030']\n",
            "['spam', 'SIX chances to win CASH! From 100 to 20,000 pounds txt> CSH11 and send to 87575. Cost 150p/day, 6days, 16+ TsandCs apply Reply HL 4 info']\n",
            "['spam', 'URGENT! You have won a 1 week FREE membership in our £100,000 Prize Jackpot! Txt the word: CLAIM to No: 81010 T&C www.dbuk.net LCCLTD POBOX 4403LDNW1A7RW18']\n",
            "['spam', 'XXXMobileMovieClub: To use your credit, click the WAP link in the next txt message or click here>> http://wap. xxxmobilemovieclub.com?n=QJKGIGHJJGCBL']\n",
            "['spam', 'England v Macedonia - dont miss the goals/team news. Txt ur national team to 87077 eg ENGLAND to 87077 Try:WALES, SCOTLAND 4txt/ú1.20 POBOXox36504W45WQ 16+']\n",
            "['spam', 'Thanks for your subscription to Ringtone UK your mobile will be charged £5/month Please confirm by replying YES or NO. If you reply NO you will not be charged']\n",
            "['spam', '07732584351 - Rodger Burns - MSG = We tried to call you re your reply to our sms for a free nokia mobile + free camcorder. Please call now 08000930705 for delivery tomorrow']\n"
          ]
        }
      ]
    },
    {
      "cell_type": "code",
      "source": [
        "# FlatMap: We know SMS lable spam, change element \n",
        "# FlatMap: function transform single input to iterable output.\n",
        "\n",
        "import re\n",
        "\n",
        "inputs_pattern = 'data/SMSSpamCollection'\n",
        "\n",
        "pipeline = beam.Pipeline()\n",
        "\n",
        "outputs = (\n",
        "    pipeline\n",
        "      | 'Take in Dataset' >> beam.io.ReadFromText(inputs_pattern)\n",
        "      | 'Separate to list' >> beam.Map(lambda line: line.split(\"\\t\"))\n",
        "      | 'Keep only spam' >> beam.Filter(lambda line: line[0] == \"spam\")\n",
        "      | 'Find words' >> beam.FlatMap(lambda line: re.findall(r\"[a-zA-Z']+\", line[1]))\n",
        "      | 'Write results' >> beam.io.WriteToText(\"ansoutput3\", file_name_suffix = \".txt\")\n",
        "      | 'Print the text file name' >> beam.Map(print)\n",
        ")\n",
        "\n",
        "pipeline.run()\n",
        "\n",
        "! head ansoutput3*.txt"
      ],
      "metadata": {
        "colab": {
          "base_uri": "https://localhost:8080/"
        },
        "id": "6p0uBlNammJ6",
        "outputId": "1e028e34-6da3-4224-f21c-3f65ebdfb9ab"
      },
      "execution_count": null,
      "outputs": [
        {
          "output_type": "stream",
          "name": "stdout",
          "text": [
            "ansoutput3-00000-of-00001.txt\n",
            "Free\n",
            "entry\n",
            "in\n",
            "a\n",
            "wkly\n",
            "comp\n",
            "to\n",
            "win\n",
            "FA\n",
            "Cup\n"
          ]
        }
      ]
    },
    {
      "cell_type": "code",
      "source": [
        "# Combine \n",
        "inputs_pattern = 'data/SMSSpamCollection'\n",
        "\n",
        "pipeline = beam.Pipeline()\n",
        "\n",
        "outputs = (\n",
        "    pipeline\n",
        "      | 'Take in Dataset' >> beam.io.ReadFromText(inputs_pattern)\n",
        "      | 'Separate to list' >> beam.Map(lambda line: line.split(\"\\t\"))\n",
        "      | 'Keep only spam' >> beam.Filter(lambda line: line[0] == \"spam\")\n",
        "      | 'Find words' >> beam.FlatMap(lambda line: re.findall(r\"[a-zA-Z']+\", line[1]))\n",
        "      | 'Pair words with 1' >> beam.Map(lambda word: (word, 1))\n",
        "      | 'Group and sum' >> beam.CombinePerKey(sum)\n",
        "      | 'Write results' >> beam.io.WriteToText(\"ansoutput4\", file_name_suffix = \".txt\")\n",
        "      | 'Print the text file name' >> beam.Map(print)\n",
        ")\n",
        "\n",
        "pipeline.run()\n",
        "\n",
        "! head ansoutput4*.txt"
      ],
      "metadata": {
        "colab": {
          "base_uri": "https://localhost:8080/"
        },
        "id": "R-OwL4Klrqae",
        "outputId": "900f5ff1-d9f9-4ac0-8b47-8cd3f067f599"
      },
      "execution_count": null,
      "outputs": [
        {
          "output_type": "stream",
          "name": "stdout",
          "text": [
            "ansoutput4-00000-of-00001.txt\n",
            "('Free', 43)\n",
            "('entry', 25)\n",
            "('in', 77)\n",
            "('a', 367)\n",
            "('wkly', 10)\n",
            "('comp', 10)\n",
            "('to', 611)\n",
            "('win', 38)\n",
            "('FA', 4)\n",
            "('Cup', 3)\n"
          ]
        }
      ]
    },
    {
      "cell_type": "code",
      "source": [
        "# Full code Spam Ham Apache Beam\n",
        "\n",
        "import apache_beam as beam\n",
        "import re\n",
        "\n",
        "inputs_pattern = 'data/SMSSpamCollection'\n",
        "outputs_prefix_ham = 'outputs/fullcodeham'\n",
        "outputs_prefix_spam = 'outputs/fullcodespam'\n",
        "\n",
        "# Ham Word Count\n",
        "with beam.Pipeline() as pipeline:\n",
        "     ham = (\n",
        "      pipeline\n",
        "      | 'Take in Dataset' >> beam.io.ReadFromText(inputs_pattern)\n",
        "      | 'Separate to list' >> beam.Map(lambda line: line.split(\"\\t\"))\n",
        "      | 'Keep only ham' >> beam.Filter(lambda line: line[0] == \"ham\")\n",
        "      | 'Find words' >> beam.FlatMap(lambda line: re.findall(r\"[a-zA-Z']+\", line[1]))\n",
        "      | 'Pair words with 1' >> beam.Map(lambda word: (word, 1))\n",
        "      | 'Group and sum' >> beam.CombinePerKey(sum)\n",
        "      | 'Format results' >> beam.Map(lambda word_c: str(word_c))\n",
        "      | 'Write results' >> beam.io.WriteToText(outputs_prefix_ham, file_name_suffix = \".txt\")\n",
        "    )\n",
        "\n",
        "# Spam Word Count\n",
        "with beam.Pipeline() as pipeline1:\n",
        "  spam = (\n",
        "    pipeline1\n",
        "    | 'Take in Dataset' >> beam.io.ReadFromText(inputs_pattern)\n",
        "    | 'Separate to list' >> beam.Map(lambda line: line.split(\"\\t\"))\n",
        "    | 'Filter out only spam' >> beam.Filter(lambda line: line[0] == \"spam\")\n",
        "    | 'Find words' >> beam.FlatMap(lambda line: re.findall(r\"[a-zA-Z']+\", line[1]))\n",
        "    | 'Pair words with 1' >> beam.Map(lambda word: (word, 1))\n",
        "    | 'Group and sum' >> beam.CombinePerKey(sum)\n",
        "    | 'Format results' >> beam.Map(lambda word_c: str(word_c))\n",
        "    | 'Write results' >> beam.io.WriteToText(outputs_prefix_spam, file_name_suffix = \".txt\")\n",
        "    )\n",
        "\n",
        "print('Ham Word Count Head')\n",
        "! head outputs/fullcodeham*.txt\n",
        "\n",
        "print('Spam Word Count Head')\n",
        "! head outputs/fullcodespam*.txt"
      ],
      "metadata": {
        "colab": {
          "base_uri": "https://localhost:8080/"
        },
        "id": "QHkqwwItnndW",
        "outputId": "7949e6b3-1e90-4813-90f8-0b113b72333d"
      },
      "execution_count": null,
      "outputs": [
        {
          "output_type": "stream",
          "name": "stdout",
          "text": [
            "Ham Word Count Head\n",
            "('Go', 10)\n",
            "('until', 21)\n",
            "('jurong', 1)\n",
            "('point', 12)\n",
            "('crazy', 9)\n",
            "('Available', 1)\n",
            "('only', 118)\n",
            "('in', 770)\n",
            "('bugis', 6)\n",
            "('n', 139)\n",
            "Spam Word Count Head\n",
            "('Free', 43)\n",
            "('entry', 25)\n",
            "('in', 77)\n",
            "('a', 367)\n",
            "('wkly', 10)\n",
            "('comp', 10)\n",
            "('to', 611)\n",
            "('win', 38)\n",
            "('FA', 4)\n",
            "('Cup', 3)\n"
          ]
        }
      ]
    },
    {
      "cell_type": "code",
      "source": [
        "# Visualize Beam Pipeline\n",
        "\n",
        "import apache_beam.runners.interactive.interactive_beam as ib\n",
        "ib.show_graph(pipeline)"
      ],
      "metadata": {
        "colab": {
          "base_uri": "https://localhost:8080/",
          "height": 1000
        },
        "id": "eeBj9pK0nv-L",
        "outputId": "4585ada7-8d86-4bda-a336-5aaf399e0c2a"
      },
      "execution_count": null,
      "outputs": [
        {
          "output_type": "display_data",
          "data": {
            "text/plain": [
              "<IPython.core.display.HTML object>"
            ],
            "text/html": [
              "\n",
              "            <link rel=\"stylesheet\" href=\"https://stackpath.bootstrapcdn.com/bootstrap/4.4.1/css/bootstrap.min.css\" integrity=\"sha384-Vkoo8x4CGsO3+Hhxv8T/Q5PaXtkKtu6ug5TOeNV6gBiFeWPGFN9MuhOf23Q9Ifjh\" crossorigin=\"anonymous\">\n",
              "            <div id=\"progress_indicator_c17d9bd13d323d5d5ce11e024bff6e02\">\n",
              "              <div class=\"spinner-border text-info\" role=\"status\"></div>\n",
              "              <span class=\"text-info\">Processing... show_graph</span>\n",
              "            </div>\n",
              "            "
            ]
          },
          "metadata": {}
        },
        {
          "output_type": "display_data",
          "data": {
            "text/plain": [
              "<IPython.core.display.HTML object>"
            ],
            "text/html": [
              "<?xml version=\"1.0\" encoding=\"UTF-8\" standalone=\"no\"?>\n",
              "<!DOCTYPE svg PUBLIC \"-//W3C//DTD SVG 1.1//EN\"\n",
              " \"http://www.w3.org/Graphics/SVG/1.1/DTD/svg11.dtd\">\n",
              "<!-- Generated by graphviz version 2.43.0 (0)\n",
              " -->\n",
              "<!-- Title: G Pages: 1 -->\n",
              "<svg width=\"151pt\" height=\"1141pt\"\n",
              " viewBox=\"0.00 0.00 151.00 1141.30\" xmlns=\"http://www.w3.org/2000/svg\" xmlns:xlink=\"http://www.w3.org/1999/xlink\">\n",
              "<g id=\"graph0\" class=\"graph\" transform=\"scale(1 1) rotate(0) translate(4 1137.3)\">\n",
              "<title>G</title>\n",
              "<polygon fill=\"white\" stroke=\"transparent\" points=\"-4,4 -4,-1137.3 147,-1137.3 147,4 -4,4\"/>\n",
              "<!-- [14]: Take in Dataset -->\n",
              "<g id=\"node1\" class=\"node\">\n",
              "<title>[14]: Take in Dataset</title>\n",
              "<polygon fill=\"none\" stroke=\"blue\" points=\"137,-1133.3 6,-1133.3 6,-1097.3 137,-1097.3 137,-1133.3\"/>\n",
              "<text text-anchor=\"middle\" x=\"71.5\" y=\"-1111.6\" font-family=\"Times,serif\" font-size=\"14.00\" fill=\"blue\">[14]: Take in Dataset</text>\n",
              "</g>\n",
              "<!-- pcoll6165 -->\n",
              "<g id=\"node2\" class=\"node\">\n",
              "<title>pcoll6165</title>\n",
              "<ellipse fill=\"none\" stroke=\"blue\" cx=\"71.5\" cy=\"-1043.3\" rx=\"18\" ry=\"18\"/>\n",
              "</g>\n",
              "<!-- [14]: Take in Dataset&#45;&gt;pcoll6165 -->\n",
              "<g id=\"edge1\" class=\"edge\">\n",
              "<title>[14]: Take in Dataset&#45;&gt;pcoll6165</title>\n",
              "<path fill=\"none\" stroke=\"black\" d=\"M71.5,-1096.99C71.5,-1089.28 71.5,-1080.01 71.5,-1071.41\"/>\n",
              "<polygon fill=\"black\" stroke=\"black\" points=\"75,-1071.4 71.5,-1061.4 68,-1071.4 75,-1071.4\"/>\n",
              "</g>\n",
              "<!-- [14]: Separate to list -->\n",
              "<g id=\"node3\" class=\"node\">\n",
              "<title>[14]: Separate to list</title>\n",
              "<polygon fill=\"none\" stroke=\"blue\" points=\"135.5,-989.3 7.5,-989.3 7.5,-953.3 135.5,-953.3 135.5,-989.3\"/>\n",
              "<text text-anchor=\"middle\" x=\"71.5\" y=\"-967.6\" font-family=\"Times,serif\" font-size=\"14.00\" fill=\"blue\">[14]: Separate to list</text>\n",
              "</g>\n",
              "<!-- pcoll6165&#45;&gt;[14]: Separate to list -->\n",
              "<g id=\"edge2\" class=\"edge\">\n",
              "<title>pcoll6165&#45;&gt;[14]: Separate to list</title>\n",
              "<path fill=\"none\" stroke=\"black\" d=\"M71.5,-1024.99C71.5,-1017.28 71.5,-1008.01 71.5,-999.41\"/>\n",
              "<polygon fill=\"black\" stroke=\"black\" points=\"75,-999.4 71.5,-989.4 68,-999.4 75,-999.4\"/>\n",
              "</g>\n",
              "<!-- pcoll6445 -->\n",
              "<g id=\"node4\" class=\"node\">\n",
              "<title>pcoll6445</title>\n",
              "<ellipse fill=\"none\" stroke=\"blue\" cx=\"71.5\" cy=\"-899.3\" rx=\"18\" ry=\"18\"/>\n",
              "</g>\n",
              "<!-- [14]: Separate to list&#45;&gt;pcoll6445 -->\n",
              "<g id=\"edge3\" class=\"edge\">\n",
              "<title>[14]: Separate to list&#45;&gt;pcoll6445</title>\n",
              "<path fill=\"none\" stroke=\"black\" d=\"M71.5,-952.99C71.5,-945.28 71.5,-936.01 71.5,-927.41\"/>\n",
              "<polygon fill=\"black\" stroke=\"black\" points=\"75,-927.4 71.5,-917.4 68,-927.4 75,-927.4\"/>\n",
              "</g>\n",
              "<!-- [14]: Keep only ham -->\n",
              "<g id=\"node5\" class=\"node\">\n",
              "<title>[14]: Keep only ham</title>\n",
              "<polygon fill=\"none\" stroke=\"blue\" points=\"137,-845.3 6,-845.3 6,-809.3 137,-809.3 137,-845.3\"/>\n",
              "<text text-anchor=\"middle\" x=\"71.5\" y=\"-823.6\" font-family=\"Times,serif\" font-size=\"14.00\" fill=\"blue\">[14]: Keep only ham</text>\n",
              "</g>\n",
              "<!-- pcoll6445&#45;&gt;[14]: Keep only ham -->\n",
              "<g id=\"edge4\" class=\"edge\">\n",
              "<title>pcoll6445&#45;&gt;[14]: Keep only ham</title>\n",
              "<path fill=\"none\" stroke=\"black\" d=\"M71.5,-880.99C71.5,-873.28 71.5,-864.01 71.5,-855.41\"/>\n",
              "<polygon fill=\"black\" stroke=\"black\" points=\"75,-855.4 71.5,-845.4 68,-855.4 75,-855.4\"/>\n",
              "</g>\n",
              "<!-- pcoll7038 -->\n",
              "<g id=\"node6\" class=\"node\">\n",
              "<title>pcoll7038</title>\n",
              "<ellipse fill=\"none\" stroke=\"blue\" cx=\"71.5\" cy=\"-755.3\" rx=\"18\" ry=\"18\"/>\n",
              "</g>\n",
              "<!-- [14]: Keep only ham&#45;&gt;pcoll7038 -->\n",
              "<g id=\"edge5\" class=\"edge\">\n",
              "<title>[14]: Keep only ham&#45;&gt;pcoll7038</title>\n",
              "<path fill=\"none\" stroke=\"black\" d=\"M71.5,-808.99C71.5,-801.28 71.5,-792.01 71.5,-783.41\"/>\n",
              "<polygon fill=\"black\" stroke=\"black\" points=\"75,-783.4 71.5,-773.4 68,-783.4 75,-783.4\"/>\n",
              "</g>\n",
              "<!-- [14]: Find words -->\n",
              "<g id=\"node7\" class=\"node\">\n",
              "<title>[14]: Find words</title>\n",
              "<polygon fill=\"none\" stroke=\"blue\" points=\"125.5,-701.3 17.5,-701.3 17.5,-665.3 125.5,-665.3 125.5,-701.3\"/>\n",
              "<text text-anchor=\"middle\" x=\"71.5\" y=\"-679.6\" font-family=\"Times,serif\" font-size=\"14.00\" fill=\"blue\">[14]: Find words</text>\n",
              "</g>\n",
              "<!-- pcoll7038&#45;&gt;[14]: Find words -->\n",
              "<g id=\"edge6\" class=\"edge\">\n",
              "<title>pcoll7038&#45;&gt;[14]: Find words</title>\n",
              "<path fill=\"none\" stroke=\"black\" d=\"M71.5,-736.99C71.5,-729.28 71.5,-720.01 71.5,-711.41\"/>\n",
              "<polygon fill=\"black\" stroke=\"black\" points=\"75,-711.4 71.5,-701.4 68,-711.4 75,-711.4\"/>\n",
              "</g>\n",
              "<!-- pcoll491 -->\n",
              "<g id=\"node8\" class=\"node\">\n",
              "<title>pcoll491</title>\n",
              "<ellipse fill=\"none\" stroke=\"blue\" cx=\"71.5\" cy=\"-611.3\" rx=\"18\" ry=\"18\"/>\n",
              "</g>\n",
              "<!-- [14]: Find words&#45;&gt;pcoll491 -->\n",
              "<g id=\"edge7\" class=\"edge\">\n",
              "<title>[14]: Find words&#45;&gt;pcoll491</title>\n",
              "<path fill=\"none\" stroke=\"black\" d=\"M71.5,-664.99C71.5,-657.28 71.5,-648.01 71.5,-639.41\"/>\n",
              "<polygon fill=\"black\" stroke=\"black\" points=\"75,-639.4 71.5,-629.4 68,-639.4 75,-639.4\"/>\n",
              "</g>\n",
              "<!-- [14]: Pair words with 1 -->\n",
              "<g id=\"node9\" class=\"node\">\n",
              "<title>[14]: Pair words with 1</title>\n",
              "<polygon fill=\"none\" stroke=\"blue\" points=\"143,-557.3 0,-557.3 0,-521.3 143,-521.3 143,-557.3\"/>\n",
              "<text text-anchor=\"middle\" x=\"71.5\" y=\"-535.6\" font-family=\"Times,serif\" font-size=\"14.00\" fill=\"blue\">[14]: Pair words with 1</text>\n",
              "</g>\n",
              "<!-- pcoll491&#45;&gt;[14]: Pair words with 1 -->\n",
              "<g id=\"edge8\" class=\"edge\">\n",
              "<title>pcoll491&#45;&gt;[14]: Pair words with 1</title>\n",
              "<path fill=\"none\" stroke=\"black\" d=\"M71.5,-592.99C71.5,-585.28 71.5,-576.01 71.5,-567.41\"/>\n",
              "<polygon fill=\"black\" stroke=\"black\" points=\"75,-567.4 71.5,-557.4 68,-567.4 75,-567.4\"/>\n",
              "</g>\n",
              "<!-- pcoll6384 -->\n",
              "<g id=\"node10\" class=\"node\">\n",
              "<title>pcoll6384</title>\n",
              "<ellipse fill=\"none\" stroke=\"blue\" cx=\"71.5\" cy=\"-467.3\" rx=\"18\" ry=\"18\"/>\n",
              "</g>\n",
              "<!-- [14]: Pair words with 1&#45;&gt;pcoll6384 -->\n",
              "<g id=\"edge9\" class=\"edge\">\n",
              "<title>[14]: Pair words with 1&#45;&gt;pcoll6384</title>\n",
              "<path fill=\"none\" stroke=\"black\" d=\"M71.5,-520.99C71.5,-513.28 71.5,-504.01 71.5,-495.41\"/>\n",
              "<polygon fill=\"black\" stroke=\"black\" points=\"75,-495.4 71.5,-485.4 68,-495.4 75,-495.4\"/>\n",
              "</g>\n",
              "<!-- [14]: Group and sum -->\n",
              "<g id=\"node11\" class=\"node\">\n",
              "<title>[14]: Group and sum</title>\n",
              "<polygon fill=\"none\" stroke=\"blue\" points=\"137,-413.3 6,-413.3 6,-377.3 137,-377.3 137,-413.3\"/>\n",
              "<text text-anchor=\"middle\" x=\"71.5\" y=\"-391.6\" font-family=\"Times,serif\" font-size=\"14.00\" fill=\"blue\">[14]: Group and sum</text>\n",
              "</g>\n",
              "<!-- pcoll6384&#45;&gt;[14]: Group and sum -->\n",
              "<g id=\"edge10\" class=\"edge\">\n",
              "<title>pcoll6384&#45;&gt;[14]: Group and sum</title>\n",
              "<path fill=\"none\" stroke=\"black\" d=\"M71.5,-448.99C71.5,-441.28 71.5,-432.01 71.5,-423.41\"/>\n",
              "<polygon fill=\"black\" stroke=\"black\" points=\"75,-423.4 71.5,-413.4 68,-423.4 75,-423.4\"/>\n",
              "</g>\n",
              "<!-- pcoll6679 -->\n",
              "<g id=\"node12\" class=\"node\">\n",
              "<title>pcoll6679</title>\n",
              "<ellipse fill=\"none\" stroke=\"blue\" cx=\"71.5\" cy=\"-323.3\" rx=\"18\" ry=\"18\"/>\n",
              "</g>\n",
              "<!-- [14]: Group and sum&#45;&gt;pcoll6679 -->\n",
              "<g id=\"edge11\" class=\"edge\">\n",
              "<title>[14]: Group and sum&#45;&gt;pcoll6679</title>\n",
              "<path fill=\"none\" stroke=\"black\" d=\"M71.5,-376.99C71.5,-369.28 71.5,-360.01 71.5,-351.41\"/>\n",
              "<polygon fill=\"black\" stroke=\"black\" points=\"75,-351.4 71.5,-341.4 68,-351.4 75,-351.4\"/>\n",
              "</g>\n",
              "<!-- [14]: Format results -->\n",
              "<g id=\"node13\" class=\"node\">\n",
              "<title>[14]: Format results</title>\n",
              "<polygon fill=\"none\" stroke=\"blue\" points=\"134,-269.3 9,-269.3 9,-233.3 134,-233.3 134,-269.3\"/>\n",
              "<text text-anchor=\"middle\" x=\"71.5\" y=\"-247.6\" font-family=\"Times,serif\" font-size=\"14.00\" fill=\"blue\">[14]: Format results</text>\n",
              "</g>\n",
              "<!-- pcoll6679&#45;&gt;[14]: Format results -->\n",
              "<g id=\"edge12\" class=\"edge\">\n",
              "<title>pcoll6679&#45;&gt;[14]: Format results</title>\n",
              "<path fill=\"none\" stroke=\"black\" d=\"M71.5,-304.99C71.5,-297.28 71.5,-288.01 71.5,-279.41\"/>\n",
              "<polygon fill=\"black\" stroke=\"black\" points=\"75,-279.4 71.5,-269.4 68,-279.4 75,-279.4\"/>\n",
              "</g>\n",
              "<!-- pcoll2820 -->\n",
              "<g id=\"node14\" class=\"node\">\n",
              "<title>pcoll2820</title>\n",
              "<ellipse fill=\"none\" stroke=\"blue\" cx=\"71.5\" cy=\"-179.3\" rx=\"18\" ry=\"18\"/>\n",
              "</g>\n",
              "<!-- [14]: Format results&#45;&gt;pcoll2820 -->\n",
              "<g id=\"edge13\" class=\"edge\">\n",
              "<title>[14]: Format results&#45;&gt;pcoll2820</title>\n",
              "<path fill=\"none\" stroke=\"black\" d=\"M71.5,-232.99C71.5,-225.28 71.5,-216.01 71.5,-207.41\"/>\n",
              "<polygon fill=\"black\" stroke=\"black\" points=\"75,-207.4 71.5,-197.4 68,-207.4 75,-207.4\"/>\n",
              "</g>\n",
              "<!-- [14]: Write results -->\n",
              "<g id=\"node15\" class=\"node\">\n",
              "<title>[14]: Write results</title>\n",
              "<polygon fill=\"none\" stroke=\"blue\" points=\"129.5,-125.3 13.5,-125.3 13.5,-89.3 129.5,-89.3 129.5,-125.3\"/>\n",
              "<text text-anchor=\"middle\" x=\"71.5\" y=\"-103.6\" font-family=\"Times,serif\" font-size=\"14.00\" fill=\"blue\">[14]: Write results</text>\n",
              "</g>\n",
              "<!-- pcoll2820&#45;&gt;[14]: Write results -->\n",
              "<g id=\"edge14\" class=\"edge\">\n",
              "<title>pcoll2820&#45;&gt;[14]: Write results</title>\n",
              "<path fill=\"none\" stroke=\"black\" d=\"M71.5,-160.99C71.5,-153.28 71.5,-144.01 71.5,-135.41\"/>\n",
              "<polygon fill=\"black\" stroke=\"black\" points=\"75,-135.4 71.5,-125.4 68,-135.4 75,-135.4\"/>\n",
              "</g>\n",
              "<!-- ham -->\n",
              "<g id=\"node16\" class=\"node\">\n",
              "<title>ham</title>\n",
              "<ellipse fill=\"none\" stroke=\"blue\" cx=\"71.5\" cy=\"-26.65\" rx=\"26.8\" ry=\"26.8\"/>\n",
              "<text text-anchor=\"middle\" x=\"71.5\" y=\"-22.95\" font-family=\"Times,serif\" font-size=\"14.00\" fill=\"blue\">ham</text>\n",
              "</g>\n",
              "<!-- [14]: Write results&#45;&gt;ham -->\n",
              "<g id=\"edge15\" class=\"edge\">\n",
              "<title>[14]: Write results&#45;&gt;ham</title>\n",
              "<path fill=\"none\" stroke=\"black\" d=\"M71.5,-89.23C71.5,-81.7 71.5,-72.54 71.5,-63.61\"/>\n",
              "<polygon fill=\"black\" stroke=\"black\" points=\"75,-63.35 71.5,-53.35 68,-63.35 75,-63.35\"/>\n",
              "</g>\n",
              "</g>\n",
              "</svg>\n"
            ]
          },
          "metadata": {}
        },
        {
          "output_type": "display_data",
          "data": {
            "application/javascript": [
              "\n",
              "        if (typeof window.interactive_beam_jquery == 'undefined') {\n",
              "          var jqueryScript = document.createElement('script');\n",
              "          jqueryScript.src = 'https://code.jquery.com/jquery-3.4.1.slim.min.js';\n",
              "          jqueryScript.type = 'text/javascript';\n",
              "          jqueryScript.onload = function() {\n",
              "            var datatableScript = document.createElement('script');\n",
              "            datatableScript.src = 'https://cdn.datatables.net/1.10.20/js/jquery.dataTables.min.js';\n",
              "            datatableScript.type = 'text/javascript';\n",
              "            datatableScript.onload = function() {\n",
              "              window.interactive_beam_jquery = jQuery.noConflict(true);\n",
              "              window.interactive_beam_jquery(document).ready(function($){\n",
              "                \n",
              "            $(\"#progress_indicator_c17d9bd13d323d5d5ce11e024bff6e02\").remove();\n",
              "              });\n",
              "            }\n",
              "            document.head.appendChild(datatableScript);\n",
              "          };\n",
              "          document.head.appendChild(jqueryScript);\n",
              "        } else {\n",
              "          window.interactive_beam_jquery(document).ready(function($){\n",
              "            \n",
              "            $(\"#progress_indicator_c17d9bd13d323d5d5ce11e024bff6e02\").remove();\n",
              "          });\n",
              "        }"
            ]
          },
          "metadata": {}
        }
      ]
    }
  ]
}